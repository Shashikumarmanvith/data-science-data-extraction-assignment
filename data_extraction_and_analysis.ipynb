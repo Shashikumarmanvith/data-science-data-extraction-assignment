{
  "cells": [
    {
      "cell_type": "code",
      "execution_count": null,
      "metadata": {
        "colab": {
          "base_uri": "https://localhost:8080/"
        },
        "id": "b6LULdYBtxri",
        "outputId": "618e5ca3-ae37-4820-ff5d-158a6f3508d6"
      },
      "outputs": [
        {
          "output_type": "stream",
          "name": "stderr",
          "text": [
            "[nltk_data] Downloading package punkt to /root/nltk_data...\n",
            "[nltk_data]   Unzipping tokenizers/punkt.zip.\n"
          ]
        },
        {
          "output_type": "execute_result",
          "data": {
            "text/plain": [
              "True"
            ]
          },
          "metadata": {},
          "execution_count": 1
        }
      ],
      "source": [
        "#importing library\n",
        "import pandas as pd\n",
        "import requests\n",
        "from bs4 import BeautifulSoup\n",
        "import numpy as np\n",
        "import nltk\n",
        "import string\n",
        "nltk.download('punkt')"
      ]
    },
    {
      "cell_type": "code",
      "execution_count": null,
      "metadata": {
        "id": "SB_45Drvt_wt"
      },
      "outputs": [],
      "source": [
        "#importing input file\n",
        "dff=pd.read_excel('Input.xlsx')"
      ]
    },
    {
      "cell_type": "code",
      "execution_count": null,
      "metadata": {
        "colab": {
          "base_uri": "https://localhost:8080/",
          "height": 423
        },
        "id": "Xxv41FHRt_5L",
        "outputId": "c438ab19-2da0-4501-f182-b7de69c34ad8"
      },
      "outputs": [
        {
          "output_type": "execute_result",
          "data": {
            "text/plain": [
              "      URL_ID                                                URL\n",
              "0      123.0  https://insights.blackcoffer.com/rise-of-telem...\n",
              "1      321.0  https://insights.blackcoffer.com/rise-of-e-hea...\n",
              "2     2345.0  https://insights.blackcoffer.com/rise-of-e-hea...\n",
              "3     4321.0  https://insights.blackcoffer.com/rise-of-telem...\n",
              "4      432.0  https://insights.blackcoffer.com/rise-of-telem...\n",
              "..       ...                                                ...\n",
              "109  50921.0  https://insights.blackcoffer.com/coronavirus-i...\n",
              "110  51382.8  https://insights.blackcoffer.com/coronavirus-i...\n",
              "111  51844.6  https://insights.blackcoffer.com/what-are-the-...\n",
              "112  52306.4  https://insights.blackcoffer.com/marketing-dri...\n",
              "113  52768.2  https://insights.blackcoffer.com/continued-dem...\n",
              "\n",
              "[114 rows x 2 columns]"
            ],
            "text/html": [
              "\n",
              "  <div id=\"df-96bfb3c8-480d-42c3-aa81-08266030d4a7\" class=\"colab-df-container\">\n",
              "    <div>\n",
              "<style scoped>\n",
              "    .dataframe tbody tr th:only-of-type {\n",
              "        vertical-align: middle;\n",
              "    }\n",
              "\n",
              "    .dataframe tbody tr th {\n",
              "        vertical-align: top;\n",
              "    }\n",
              "\n",
              "    .dataframe thead th {\n",
              "        text-align: right;\n",
              "    }\n",
              "</style>\n",
              "<table border=\"1\" class=\"dataframe\">\n",
              "  <thead>\n",
              "    <tr style=\"text-align: right;\">\n",
              "      <th></th>\n",
              "      <th>URL_ID</th>\n",
              "      <th>URL</th>\n",
              "    </tr>\n",
              "  </thead>\n",
              "  <tbody>\n",
              "    <tr>\n",
              "      <th>0</th>\n",
              "      <td>123.0</td>\n",
              "      <td>https://insights.blackcoffer.com/rise-of-telem...</td>\n",
              "    </tr>\n",
              "    <tr>\n",
              "      <th>1</th>\n",
              "      <td>321.0</td>\n",
              "      <td>https://insights.blackcoffer.com/rise-of-e-hea...</td>\n",
              "    </tr>\n",
              "    <tr>\n",
              "      <th>2</th>\n",
              "      <td>2345.0</td>\n",
              "      <td>https://insights.blackcoffer.com/rise-of-e-hea...</td>\n",
              "    </tr>\n",
              "    <tr>\n",
              "      <th>3</th>\n",
              "      <td>4321.0</td>\n",
              "      <td>https://insights.blackcoffer.com/rise-of-telem...</td>\n",
              "    </tr>\n",
              "    <tr>\n",
              "      <th>4</th>\n",
              "      <td>432.0</td>\n",
              "      <td>https://insights.blackcoffer.com/rise-of-telem...</td>\n",
              "    </tr>\n",
              "    <tr>\n",
              "      <th>...</th>\n",
              "      <td>...</td>\n",
              "      <td>...</td>\n",
              "    </tr>\n",
              "    <tr>\n",
              "      <th>109</th>\n",
              "      <td>50921.0</td>\n",
              "      <td>https://insights.blackcoffer.com/coronavirus-i...</td>\n",
              "    </tr>\n",
              "    <tr>\n",
              "      <th>110</th>\n",
              "      <td>51382.8</td>\n",
              "      <td>https://insights.blackcoffer.com/coronavirus-i...</td>\n",
              "    </tr>\n",
              "    <tr>\n",
              "      <th>111</th>\n",
              "      <td>51844.6</td>\n",
              "      <td>https://insights.blackcoffer.com/what-are-the-...</td>\n",
              "    </tr>\n",
              "    <tr>\n",
              "      <th>112</th>\n",
              "      <td>52306.4</td>\n",
              "      <td>https://insights.blackcoffer.com/marketing-dri...</td>\n",
              "    </tr>\n",
              "    <tr>\n",
              "      <th>113</th>\n",
              "      <td>52768.2</td>\n",
              "      <td>https://insights.blackcoffer.com/continued-dem...</td>\n",
              "    </tr>\n",
              "  </tbody>\n",
              "</table>\n",
              "<p>114 rows × 2 columns</p>\n",
              "</div>\n",
              "    <div class=\"colab-df-buttons\">\n",
              "\n",
              "  <div class=\"colab-df-container\">\n",
              "    <button class=\"colab-df-convert\" onclick=\"convertToInteractive('df-96bfb3c8-480d-42c3-aa81-08266030d4a7')\"\n",
              "            title=\"Convert this dataframe to an interactive table.\"\n",
              "            style=\"display:none;\">\n",
              "\n",
              "  <svg xmlns=\"http://www.w3.org/2000/svg\" height=\"24px\" viewBox=\"0 -960 960 960\">\n",
              "    <path d=\"M120-120v-720h720v720H120Zm60-500h600v-160H180v160Zm220 220h160v-160H400v160Zm0 220h160v-160H400v160ZM180-400h160v-160H180v160Zm440 0h160v-160H620v160ZM180-180h160v-160H180v160Zm440 0h160v-160H620v160Z\"/>\n",
              "  </svg>\n",
              "    </button>\n",
              "\n",
              "  <style>\n",
              "    .colab-df-container {\n",
              "      display:flex;\n",
              "      gap: 12px;\n",
              "    }\n",
              "\n",
              "    .colab-df-convert {\n",
              "      background-color: #E8F0FE;\n",
              "      border: none;\n",
              "      border-radius: 50%;\n",
              "      cursor: pointer;\n",
              "      display: none;\n",
              "      fill: #1967D2;\n",
              "      height: 32px;\n",
              "      padding: 0 0 0 0;\n",
              "      width: 32px;\n",
              "    }\n",
              "\n",
              "    .colab-df-convert:hover {\n",
              "      background-color: #E2EBFA;\n",
              "      box-shadow: 0px 1px 2px rgba(60, 64, 67, 0.3), 0px 1px 3px 1px rgba(60, 64, 67, 0.15);\n",
              "      fill: #174EA6;\n",
              "    }\n",
              "\n",
              "    .colab-df-buttons div {\n",
              "      margin-bottom: 4px;\n",
              "    }\n",
              "\n",
              "    [theme=dark] .colab-df-convert {\n",
              "      background-color: #3B4455;\n",
              "      fill: #D2E3FC;\n",
              "    }\n",
              "\n",
              "    [theme=dark] .colab-df-convert:hover {\n",
              "      background-color: #434B5C;\n",
              "      box-shadow: 0px 1px 3px 1px rgba(0, 0, 0, 0.15);\n",
              "      filter: drop-shadow(0px 1px 2px rgba(0, 0, 0, 0.3));\n",
              "      fill: #FFFFFF;\n",
              "    }\n",
              "  </style>\n",
              "\n",
              "    <script>\n",
              "      const buttonEl =\n",
              "        document.querySelector('#df-96bfb3c8-480d-42c3-aa81-08266030d4a7 button.colab-df-convert');\n",
              "      buttonEl.style.display =\n",
              "        google.colab.kernel.accessAllowed ? 'block' : 'none';\n",
              "\n",
              "      async function convertToInteractive(key) {\n",
              "        const element = document.querySelector('#df-96bfb3c8-480d-42c3-aa81-08266030d4a7');\n",
              "        const dataTable =\n",
              "          await google.colab.kernel.invokeFunction('convertToInteractive',\n",
              "                                                    [key], {});\n",
              "        if (!dataTable) return;\n",
              "\n",
              "        const docLinkHtml = 'Like what you see? Visit the ' +\n",
              "          '<a target=\"_blank\" href=https://colab.research.google.com/notebooks/data_table.ipynb>data table notebook</a>'\n",
              "          + ' to learn more about interactive tables.';\n",
              "        element.innerHTML = '';\n",
              "        dataTable['output_type'] = 'display_data';\n",
              "        await google.colab.output.renderOutput(dataTable, element);\n",
              "        const docLink = document.createElement('div');\n",
              "        docLink.innerHTML = docLinkHtml;\n",
              "        element.appendChild(docLink);\n",
              "      }\n",
              "    </script>\n",
              "  </div>\n",
              "\n",
              "\n",
              "<div id=\"df-46027ae0-2e19-428e-bdf8-fa179933ec18\">\n",
              "  <button class=\"colab-df-quickchart\" onclick=\"quickchart('df-46027ae0-2e19-428e-bdf8-fa179933ec18')\"\n",
              "            title=\"Suggest charts.\"\n",
              "            style=\"display:none;\">\n",
              "\n",
              "<svg xmlns=\"http://www.w3.org/2000/svg\" height=\"24px\"viewBox=\"0 0 24 24\"\n",
              "     width=\"24px\">\n",
              "    <g>\n",
              "        <path d=\"M19 3H5c-1.1 0-2 .9-2 2v14c0 1.1.9 2 2 2h14c1.1 0 2-.9 2-2V5c0-1.1-.9-2-2-2zM9 17H7v-7h2v7zm4 0h-2V7h2v10zm4 0h-2v-4h2v4z\"/>\n",
              "    </g>\n",
              "</svg>\n",
              "  </button>\n",
              "\n",
              "<style>\n",
              "  .colab-df-quickchart {\n",
              "    background-color: #E8F0FE;\n",
              "    border: none;\n",
              "    border-radius: 50%;\n",
              "    cursor: pointer;\n",
              "    display: none;\n",
              "    fill: #1967D2;\n",
              "    height: 32px;\n",
              "    padding: 0 0 0 0;\n",
              "    width: 32px;\n",
              "  }\n",
              "\n",
              "  .colab-df-quickchart:hover {\n",
              "    background-color: #E2EBFA;\n",
              "    box-shadow: 0px 1px 2px rgba(60, 64, 67, 0.3), 0px 1px 3px 1px rgba(60, 64, 67, 0.15);\n",
              "    fill: #174EA6;\n",
              "  }\n",
              "\n",
              "  [theme=dark] .colab-df-quickchart {\n",
              "    background-color: #3B4455;\n",
              "    fill: #D2E3FC;\n",
              "  }\n",
              "\n",
              "  [theme=dark] .colab-df-quickchart:hover {\n",
              "    background-color: #434B5C;\n",
              "    box-shadow: 0px 1px 3px 1px rgba(0, 0, 0, 0.15);\n",
              "    filter: drop-shadow(0px 1px 2px rgba(0, 0, 0, 0.3));\n",
              "    fill: #FFFFFF;\n",
              "  }\n",
              "</style>\n",
              "\n",
              "  <script>\n",
              "    async function quickchart(key) {\n",
              "      const charts = await google.colab.kernel.invokeFunction(\n",
              "          'suggestCharts', [key], {});\n",
              "    }\n",
              "    (() => {\n",
              "      let quickchartButtonEl =\n",
              "        document.querySelector('#df-46027ae0-2e19-428e-bdf8-fa179933ec18 button');\n",
              "      quickchartButtonEl.style.display =\n",
              "        google.colab.kernel.accessAllowed ? 'block' : 'none';\n",
              "    })();\n",
              "  </script>\n",
              "</div>\n",
              "    </div>\n",
              "  </div>\n"
            ]
          },
          "metadata": {},
          "execution_count": 3
        }
      ],
      "source": [
        "dff"
      ]
    },
    {
      "cell_type": "code",
      "execution_count": null,
      "metadata": {
        "id": "pOs2YqDyMbDg"
      },
      "outputs": [],
      "source": [
        "url_list1 = []\n",
        "for i in dff['URL']:\n",
        "  url_list1.append(i)"
      ]
    },
    {
      "cell_type": "markdown",
      "metadata": {
        "id": "YsJTAczqnqry"
      },
      "source": [
        "# Data extraction"
      ]
    },
    {
      "cell_type": "code",
      "execution_count": null,
      "metadata": {
        "colab": {
          "base_uri": "https://localhost:8080/"
        },
        "id": "jTddRGGeGgND",
        "outputId": "5b124835-681d-4c70-97ac-11daff1df028"
      },
      "outputs": [
        {
          "output_type": "stream",
          "name": "stdout",
          "text": [
            "HTTP Error 404: Page not found for URL: https://insights.blackcoffer.com/how-neural-networks-can-be-applied-in-various-areas-in-the-future/\n",
            "HTTP Error 404: Page not found for URL: https://insights.blackcoffer.com/covid-19-environmental-impact-for-the-future/\n"
          ]
        }
      ],
      "source": [
        "import requests\n",
        "from bs4 import BeautifulSoup\n",
        "import pandas as pd\n",
        "\n",
        "def extract_article_data(url):\n",
        "    try:\n",
        "        response = requests.get(url)\n",
        "        response.raise_for_status()\n",
        "\n",
        "        soup = BeautifulSoup(response.content, 'html.parser')\n",
        "\n",
        "        # Find and extract title\n",
        "        title = soup.find('title').get_text() if soup.title else \"No title found\"\n",
        "\n",
        "        # Find and extract main content\n",
        "        main_content = soup.find('div', class_='td-post-content tagdiv-type')  # Customize based on the class name\n",
        "        content = main_content.get_text() if main_content else \"No content found\"\n",
        "\n",
        "        return title, content\n",
        "\n",
        "    except requests.exceptions.HTTPError as e:\n",
        "        if response.status_code == 404:\n",
        "            print(f\"HTTP Error 404: Page not found for URL: {url}\")\n",
        "        else:\n",
        "            print(f\"HTTP Error {response.status_code}: {str(e)}\")\n",
        "\n",
        "        return None, None\n",
        "\n",
        "# List of URLs to extract data from\n",
        "url_list = url_list1\n",
        "\n",
        "# Extract and store data\n",
        "data = []\n",
        "for url in url_list:\n",
        "    title, content = extract_article_data(url)\n",
        "    data.append({'Title': title, 'Content': content})\n",
        "\n",
        "# Create a pandas DataFrame\n",
        "df1 = pd.DataFrame(data)\n",
        "\n"
      ]
    },
    {
      "cell_type": "code",
      "execution_count": null,
      "metadata": {
        "id": "33qMYcJNpIAS"
      },
      "outputs": [],
      "source": [
        "df = pd.concat([dff,df1],axis=1)"
      ]
    },
    {
      "cell_type": "code",
      "execution_count": null,
      "metadata": {
        "colab": {
          "base_uri": "https://localhost:8080/",
          "height": 206
        },
        "id": "Z7if4hVNpXOx",
        "outputId": "9d8fd77d-b367-400a-eb7b-3456595d0923"
      },
      "outputs": [
        {
          "output_type": "execute_result",
          "data": {
            "text/plain": [
              "   URL_ID                                                URL  \\\n",
              "0   123.0  https://insights.blackcoffer.com/rise-of-telem...   \n",
              "1   321.0  https://insights.blackcoffer.com/rise-of-e-hea...   \n",
              "2  2345.0  https://insights.blackcoffer.com/rise-of-e-hea...   \n",
              "3  4321.0  https://insights.blackcoffer.com/rise-of-telem...   \n",
              "4   432.0  https://insights.blackcoffer.com/rise-of-telem...   \n",
              "\n",
              "                                               Title  \\\n",
              "0  Rise of telemedicine and its Impact on Livelih...   \n",
              "1  Rise of e-health and its impact on humans by t...   \n",
              "2  Rise of e-health and its impact on humans by t...   \n",
              "3  Rise of telemedicine and its Impact on Livelih...   \n",
              "4  Rise of telemedicine and its Impact on Livelih...   \n",
              "\n",
              "                                             Content  \n",
              "0  \\nTelemedicine, the use of technology to diagn...  \n",
              "1  \\nThe rise of e-health, or the use of electron...  \n",
              "2                                   No content found  \n",
              "3  \\n“More gains on quality, affordability and ac...  \n",
              "4  \\n“More gains on quality, affordability and ac...  "
            ],
            "text/html": [
              "\n",
              "  <div id=\"df-20510e2d-f010-4da6-9781-add26725b8cc\" class=\"colab-df-container\">\n",
              "    <div>\n",
              "<style scoped>\n",
              "    .dataframe tbody tr th:only-of-type {\n",
              "        vertical-align: middle;\n",
              "    }\n",
              "\n",
              "    .dataframe tbody tr th {\n",
              "        vertical-align: top;\n",
              "    }\n",
              "\n",
              "    .dataframe thead th {\n",
              "        text-align: right;\n",
              "    }\n",
              "</style>\n",
              "<table border=\"1\" class=\"dataframe\">\n",
              "  <thead>\n",
              "    <tr style=\"text-align: right;\">\n",
              "      <th></th>\n",
              "      <th>URL_ID</th>\n",
              "      <th>URL</th>\n",
              "      <th>Title</th>\n",
              "      <th>Content</th>\n",
              "    </tr>\n",
              "  </thead>\n",
              "  <tbody>\n",
              "    <tr>\n",
              "      <th>0</th>\n",
              "      <td>123.0</td>\n",
              "      <td>https://insights.blackcoffer.com/rise-of-telem...</td>\n",
              "      <td>Rise of telemedicine and its Impact on Livelih...</td>\n",
              "      <td>\\nTelemedicine, the use of technology to diagn...</td>\n",
              "    </tr>\n",
              "    <tr>\n",
              "      <th>1</th>\n",
              "      <td>321.0</td>\n",
              "      <td>https://insights.blackcoffer.com/rise-of-e-hea...</td>\n",
              "      <td>Rise of e-health and its impact on humans by t...</td>\n",
              "      <td>\\nThe rise of e-health, or the use of electron...</td>\n",
              "    </tr>\n",
              "    <tr>\n",
              "      <th>2</th>\n",
              "      <td>2345.0</td>\n",
              "      <td>https://insights.blackcoffer.com/rise-of-e-hea...</td>\n",
              "      <td>Rise of e-health and its impact on humans by t...</td>\n",
              "      <td>No content found</td>\n",
              "    </tr>\n",
              "    <tr>\n",
              "      <th>3</th>\n",
              "      <td>4321.0</td>\n",
              "      <td>https://insights.blackcoffer.com/rise-of-telem...</td>\n",
              "      <td>Rise of telemedicine and its Impact on Livelih...</td>\n",
              "      <td>\\n“More gains on quality, affordability and ac...</td>\n",
              "    </tr>\n",
              "    <tr>\n",
              "      <th>4</th>\n",
              "      <td>432.0</td>\n",
              "      <td>https://insights.blackcoffer.com/rise-of-telem...</td>\n",
              "      <td>Rise of telemedicine and its Impact on Livelih...</td>\n",
              "      <td>\\n“More gains on quality, affordability and ac...</td>\n",
              "    </tr>\n",
              "  </tbody>\n",
              "</table>\n",
              "</div>\n",
              "    <div class=\"colab-df-buttons\">\n",
              "\n",
              "  <div class=\"colab-df-container\">\n",
              "    <button class=\"colab-df-convert\" onclick=\"convertToInteractive('df-20510e2d-f010-4da6-9781-add26725b8cc')\"\n",
              "            title=\"Convert this dataframe to an interactive table.\"\n",
              "            style=\"display:none;\">\n",
              "\n",
              "  <svg xmlns=\"http://www.w3.org/2000/svg\" height=\"24px\" viewBox=\"0 -960 960 960\">\n",
              "    <path d=\"M120-120v-720h720v720H120Zm60-500h600v-160H180v160Zm220 220h160v-160H400v160Zm0 220h160v-160H400v160ZM180-400h160v-160H180v160Zm440 0h160v-160H620v160ZM180-180h160v-160H180v160Zm440 0h160v-160H620v160Z\"/>\n",
              "  </svg>\n",
              "    </button>\n",
              "\n",
              "  <style>\n",
              "    .colab-df-container {\n",
              "      display:flex;\n",
              "      gap: 12px;\n",
              "    }\n",
              "\n",
              "    .colab-df-convert {\n",
              "      background-color: #E8F0FE;\n",
              "      border: none;\n",
              "      border-radius: 50%;\n",
              "      cursor: pointer;\n",
              "      display: none;\n",
              "      fill: #1967D2;\n",
              "      height: 32px;\n",
              "      padding: 0 0 0 0;\n",
              "      width: 32px;\n",
              "    }\n",
              "\n",
              "    .colab-df-convert:hover {\n",
              "      background-color: #E2EBFA;\n",
              "      box-shadow: 0px 1px 2px rgba(60, 64, 67, 0.3), 0px 1px 3px 1px rgba(60, 64, 67, 0.15);\n",
              "      fill: #174EA6;\n",
              "    }\n",
              "\n",
              "    .colab-df-buttons div {\n",
              "      margin-bottom: 4px;\n",
              "    }\n",
              "\n",
              "    [theme=dark] .colab-df-convert {\n",
              "      background-color: #3B4455;\n",
              "      fill: #D2E3FC;\n",
              "    }\n",
              "\n",
              "    [theme=dark] .colab-df-convert:hover {\n",
              "      background-color: #434B5C;\n",
              "      box-shadow: 0px 1px 3px 1px rgba(0, 0, 0, 0.15);\n",
              "      filter: drop-shadow(0px 1px 2px rgba(0, 0, 0, 0.3));\n",
              "      fill: #FFFFFF;\n",
              "    }\n",
              "  </style>\n",
              "\n",
              "    <script>\n",
              "      const buttonEl =\n",
              "        document.querySelector('#df-20510e2d-f010-4da6-9781-add26725b8cc button.colab-df-convert');\n",
              "      buttonEl.style.display =\n",
              "        google.colab.kernel.accessAllowed ? 'block' : 'none';\n",
              "\n",
              "      async function convertToInteractive(key) {\n",
              "        const element = document.querySelector('#df-20510e2d-f010-4da6-9781-add26725b8cc');\n",
              "        const dataTable =\n",
              "          await google.colab.kernel.invokeFunction('convertToInteractive',\n",
              "                                                    [key], {});\n",
              "        if (!dataTable) return;\n",
              "\n",
              "        const docLinkHtml = 'Like what you see? Visit the ' +\n",
              "          '<a target=\"_blank\" href=https://colab.research.google.com/notebooks/data_table.ipynb>data table notebook</a>'\n",
              "          + ' to learn more about interactive tables.';\n",
              "        element.innerHTML = '';\n",
              "        dataTable['output_type'] = 'display_data';\n",
              "        await google.colab.output.renderOutput(dataTable, element);\n",
              "        const docLink = document.createElement('div');\n",
              "        docLink.innerHTML = docLinkHtml;\n",
              "        element.appendChild(docLink);\n",
              "      }\n",
              "    </script>\n",
              "  </div>\n",
              "\n",
              "\n",
              "<div id=\"df-0afcb6c9-a9f4-4ca3-9d63-e8f01db77b52\">\n",
              "  <button class=\"colab-df-quickchart\" onclick=\"quickchart('df-0afcb6c9-a9f4-4ca3-9d63-e8f01db77b52')\"\n",
              "            title=\"Suggest charts.\"\n",
              "            style=\"display:none;\">\n",
              "\n",
              "<svg xmlns=\"http://www.w3.org/2000/svg\" height=\"24px\"viewBox=\"0 0 24 24\"\n",
              "     width=\"24px\">\n",
              "    <g>\n",
              "        <path d=\"M19 3H5c-1.1 0-2 .9-2 2v14c0 1.1.9 2 2 2h14c1.1 0 2-.9 2-2V5c0-1.1-.9-2-2-2zM9 17H7v-7h2v7zm4 0h-2V7h2v10zm4 0h-2v-4h2v4z\"/>\n",
              "    </g>\n",
              "</svg>\n",
              "  </button>\n",
              "\n",
              "<style>\n",
              "  .colab-df-quickchart {\n",
              "    background-color: #E8F0FE;\n",
              "    border: none;\n",
              "    border-radius: 50%;\n",
              "    cursor: pointer;\n",
              "    display: none;\n",
              "    fill: #1967D2;\n",
              "    height: 32px;\n",
              "    padding: 0 0 0 0;\n",
              "    width: 32px;\n",
              "  }\n",
              "\n",
              "  .colab-df-quickchart:hover {\n",
              "    background-color: #E2EBFA;\n",
              "    box-shadow: 0px 1px 2px rgba(60, 64, 67, 0.3), 0px 1px 3px 1px rgba(60, 64, 67, 0.15);\n",
              "    fill: #174EA6;\n",
              "  }\n",
              "\n",
              "  [theme=dark] .colab-df-quickchart {\n",
              "    background-color: #3B4455;\n",
              "    fill: #D2E3FC;\n",
              "  }\n",
              "\n",
              "  [theme=dark] .colab-df-quickchart:hover {\n",
              "    background-color: #434B5C;\n",
              "    box-shadow: 0px 1px 3px 1px rgba(0, 0, 0, 0.15);\n",
              "    filter: drop-shadow(0px 1px 2px rgba(0, 0, 0, 0.3));\n",
              "    fill: #FFFFFF;\n",
              "  }\n",
              "</style>\n",
              "\n",
              "  <script>\n",
              "    async function quickchart(key) {\n",
              "      const charts = await google.colab.kernel.invokeFunction(\n",
              "          'suggestCharts', [key], {});\n",
              "    }\n",
              "    (() => {\n",
              "      let quickchartButtonEl =\n",
              "        document.querySelector('#df-0afcb6c9-a9f4-4ca3-9d63-e8f01db77b52 button');\n",
              "      quickchartButtonEl.style.display =\n",
              "        google.colab.kernel.accessAllowed ? 'block' : 'none';\n",
              "    })();\n",
              "  </script>\n",
              "</div>\n",
              "    </div>\n",
              "  </div>\n"
            ]
          },
          "metadata": {},
          "execution_count": 7
        }
      ],
      "source": [
        "df.head()"
      ]
    },
    {
      "cell_type": "markdown",
      "metadata": {
        "id": "p9j_5sV0qIxq"
      },
      "source": [
        "#EDA"
      ]
    },
    {
      "cell_type": "code",
      "execution_count": null,
      "metadata": {
        "colab": {
          "base_uri": "https://localhost:8080/"
        },
        "id": "eL7SeC3Qt_9u",
        "outputId": "d30b82f7-6bcf-409f-ff0a-c1f85436aa74"
      },
      "outputs": [
        {
          "output_type": "stream",
          "name": "stdout",
          "text": [
            "<class 'pandas.core.frame.DataFrame'>\n",
            "RangeIndex: 114 entries, 0 to 113\n",
            "Data columns (total 4 columns):\n",
            " #   Column   Non-Null Count  Dtype  \n",
            "---  ------   --------------  -----  \n",
            " 0   URL_ID   114 non-null    float64\n",
            " 1   URL      114 non-null    object \n",
            " 2   Title    112 non-null    object \n",
            " 3   Content  112 non-null    object \n",
            "dtypes: float64(1), object(3)\n",
            "memory usage: 3.7+ KB\n"
          ]
        }
      ],
      "source": [
        "df.info()"
      ]
    },
    {
      "cell_type": "code",
      "execution_count": null,
      "metadata": {
        "colab": {
          "base_uri": "https://localhost:8080/"
        },
        "id": "c0oUzUjJu7DB",
        "outputId": "d5b05571-34b0-4045-8623-d13b1878aa08"
      },
      "outputs": [
        {
          "output_type": "execute_result",
          "data": {
            "text/plain": [
              "URL_ID     0\n",
              "URL        0\n",
              "Title      2\n",
              "Content    2\n",
              "dtype: int64"
            ]
          },
          "metadata": {},
          "execution_count": 9
        }
      ],
      "source": [
        "df.isnull().sum()"
      ]
    },
    {
      "cell_type": "code",
      "execution_count": null,
      "metadata": {
        "id": "uz02MR7pn2oZ"
      },
      "outputs": [],
      "source": [
        "df = df.dropna()"
      ]
    },
    {
      "cell_type": "code",
      "execution_count": null,
      "metadata": {
        "colab": {
          "base_uri": "https://localhost:8080/"
        },
        "id": "7drMLQPbn7qB",
        "outputId": "be1dd404-835a-4a35-b4c8-b9b53cd16590"
      },
      "outputs": [
        {
          "output_type": "execute_result",
          "data": {
            "text/plain": [
              "URL_ID     0\n",
              "URL        0\n",
              "Title      0\n",
              "Content    0\n",
              "dtype: int64"
            ]
          },
          "metadata": {},
          "execution_count": 11
        }
      ],
      "source": [
        "df.isnull().sum()"
      ]
    },
    {
      "cell_type": "code",
      "execution_count": null,
      "metadata": {
        "colab": {
          "base_uri": "https://localhost:8080/"
        },
        "id": "FZxLs8WSu9GR",
        "outputId": "d440e603-28d4-4cfe-8b09-ef4e1451fe33"
      },
      "outputs": [
        {
          "output_type": "execute_result",
          "data": {
            "text/plain": [
              "0"
            ]
          },
          "metadata": {},
          "execution_count": 12
        }
      ],
      "source": [
        "df.duplicated().sum()"
      ]
    },
    {
      "cell_type": "code",
      "execution_count": null,
      "metadata": {
        "colab": {
          "base_uri": "https://localhost:8080/"
        },
        "id": "gQaBRY9hxNka",
        "outputId": "07d3b619-ea87-4b3f-9e1d-3972431e58a8"
      },
      "outputs": [
        {
          "output_type": "stream",
          "name": "stdout",
          "text": [
            "An error occurred: 'utf-8' codec can't decode byte 0xd3 in position 184: invalid continuation byte\n",
            "Combined names written to 'combined_names.txt'.\n"
          ]
        }
      ],
      "source": [
        "# List of input file paths\n",
        "input_files = ['StopWords_Names.txt', 'StopWords_Geographic.txt', 'StopWords_GenericLong.txt','StopWords_Generic.txt','StopWords_DatesandNumbers.txt','StopWords_Currencies.txt','StopWords_Auditor.txt']  # Replace with your file paths\n",
        "\n",
        "# Output file path\n",
        "output_file = 'combined_names.txt'\n",
        "\n",
        "# Initialize an empty list to store names\n",
        "all_names = []\n",
        "\n",
        "# Read names from input files\n",
        "for input_file in input_files:\n",
        "    try:\n",
        "        with open(input_file, 'r') as file:\n",
        "            names = file.readlines()\n",
        "            all_names.extend([name.strip() for name in names])\n",
        "    except FileNotFoundError:\n",
        "        print(f\"File '{input_file}' not found.\")\n",
        "    except Exception as e:\n",
        "        print(\"An error occurred:\", str(e))\n",
        "\n",
        "# Write combined names to output file\n",
        "try:\n",
        "    with open(output_file, 'w') as file:\n",
        "        for name in all_names:\n",
        "            file.write(name + '\\n')\n",
        "    print(f\"Combined names written to '{output_file}'.\")\n",
        "except Exception as e:\n",
        "    print(\"An error occurred:\", str(e))\n"
      ]
    },
    {
      "cell_type": "code",
      "execution_count": null,
      "metadata": {
        "id": "AbXuDqpowG-f"
      },
      "outputs": [],
      "source": [
        "custom_stopwords  = all_names"
      ]
    },
    {
      "cell_type": "markdown",
      "metadata": {
        "id": "JJ4Au-zTu1dy"
      },
      "source": [
        "Data Pre-Processing"
      ]
    },
    {
      "cell_type": "code",
      "execution_count": null,
      "metadata": {
        "colab": {
          "base_uri": "https://localhost:8080/"
        },
        "id": "l2sMlOkc6SUr",
        "outputId": "18783a9a-bf0e-4749-8a8b-b989ef34502f"
      },
      "outputs": [
        {
          "output_type": "stream",
          "name": "stderr",
          "text": [
            "[nltk_data] Downloading package punkt to /root/nltk_data...\n",
            "[nltk_data]   Package punkt is already up-to-date!\n",
            "[nltk_data] Downloading package stopwords to /root/nltk_data...\n",
            "[nltk_data]   Unzipping corpora/stopwords.zip.\n"
          ]
        }
      ],
      "source": [
        "import pandas as pd\n",
        "import nltk\n",
        "from nltk.corpus import stopwords\n",
        "from nltk.tokenize import word_tokenize\n",
        "from nltk.stem import PorterStemmer\n",
        "\n",
        "nltk.download('punkt')\n",
        "nltk.download('stopwords')\n",
        "\n",
        "# Custom stopwords list\n",
        "custom_stopwords = custom_stopwords\n",
        "\n",
        "\n",
        "def preprocess_text(text):\n",
        "    text = text.lower()  # Convert to lowercase\n",
        "    tokens = word_tokenize(text)  # Tokenization\n",
        "    tokens = [token for token in tokens if token.isalpha()]  # Remove punctuation and numbers\n",
        "\n",
        "    # Remove both NLTK stopwords and custom stopwords\n",
        "    stop_words = set(stopwords.words('english')) | set(custom_stopwords)\n",
        "    tokens = [token for token in tokens if token not in stop_words]  # Remove stopwords\n",
        "\n",
        "    stemmer = PorterStemmer()\n",
        "    tokens = [stemmer.stem(token) for token in tokens]  # Stemming\n",
        "    preprocessed_text = ' '.join(tokens)\n",
        "    return preprocessed_text\n",
        "\n",
        "# Apply text preprocessing to DataFrame\n",
        "df['Preprocessed Text'] = df['Content'].apply(preprocess_text)\n"
      ]
    },
    {
      "cell_type": "markdown",
      "metadata": {
        "id": "Z61_yHNoqLOp"
      },
      "source": [
        "#Data visualization"
      ]
    },
    {
      "cell_type": "markdown",
      "metadata": {
        "id": "ORZS70YGrRwg"
      },
      "source": [
        "##Positive score and Negative Score"
      ]
    },
    {
      "cell_type": "code",
      "execution_count": null,
      "metadata": {
        "id": "bo55aXHNiAFO"
      },
      "outputs": [],
      "source": [
        "import pandas as pd\n",
        "from textblob import TextBlob\n",
        "\n",
        "def analyze_sentiment(text):\n",
        "    blob = TextBlob(text)\n",
        "    positive_score = 0\n",
        "    negative_score = 0\n",
        "\n",
        "    for sentence in blob.sentences:\n",
        "        sentence_sentiment = sentence.sentiment.polarity\n",
        "        if sentence_sentiment > 0:\n",
        "            positive_score += sentence_sentiment\n",
        "        elif sentence_sentiment < 0:\n",
        "            negative_score += sentence_sentiment\n",
        "\n",
        "    return positive_score, negative_score\n",
        "\n",
        "# Apply sentiment analysis to DataFrame\n",
        "df['Positive Score'], df['Negative Score'] = zip(*df['Preprocessed Text'].apply(analyze_sentiment))\n"
      ]
    },
    {
      "cell_type": "markdown",
      "metadata": {
        "id": "uV0AjzPCrlwA"
      },
      "source": [
        "# Polarity score"
      ]
    },
    {
      "cell_type": "code",
      "execution_count": null,
      "metadata": {
        "colab": {
          "base_uri": "https://localhost:8080/"
        },
        "id": "g6BrdfBGrW3B",
        "outputId": "42f13489-bc4b-439b-99ea-0cdd7678414f"
      },
      "outputs": [
        {
          "output_type": "execute_result",
          "data": {
            "text/plain": [
              "0      0.999978\n",
              "1     -1.000016\n",
              "2      0.000000\n",
              "3      0.999973\n",
              "4      0.999973\n",
              "         ...   \n",
              "109   -1.000008\n",
              "110   -1.000048\n",
              "111    0.999963\n",
              "112    0.999962\n",
              "113   -1.000991\n",
              "Name: Polarity_Score, Length: 112, dtype: float64"
            ]
          },
          "metadata": {},
          "execution_count": 17
        }
      ],
      "source": [
        "import pandas as pd\n",
        "from textblob import TextBlob\n",
        "\n",
        "def calculate_polarity(positive_score,negative_score):\n",
        "    PolarityScore = (positive_score-negative_score)/ ((positive_score + negative_score) + 0.000001)\n",
        "    return PolarityScore\n",
        "\n",
        "# Apply polarity analysis to DataFrame\n",
        "df['Polarity_Score'] = calculate_polarity(df['Positive Score'],df['Negative Score'])\n",
        "\n",
        "df['Polarity_Score']"
      ]
    },
    {
      "cell_type": "markdown",
      "metadata": {
        "id": "bJPJTgTesjaX"
      },
      "source": [
        "##subjective score"
      ]
    },
    {
      "cell_type": "code",
      "execution_count": null,
      "metadata": {
        "id": "2uabhHcKro9h"
      },
      "outputs": [],
      "source": [
        "import pandas as pd\n",
        "from textblob import TextBlob\n",
        "\n",
        "def calculate_Subjectivity(positive_score,negative_score,sentences):\n",
        "  total_words = sum(len(sentence.split()) for sentence in sentences)\n",
        "\n",
        "  Subjectivity_Score = (positive_score + negative_score)/ ((total_words) + 0.000001)\n",
        "  return Subjectivity_Score\n",
        "\n",
        "# Apply polarity analysis to DataFrame\n",
        "df['Subjectivity_Score'] = calculate_Subjectivity(df['Positive Score'],df['Negative Score'],df['Preprocessed Text'])\n"
      ]
    },
    {
      "cell_type": "markdown",
      "metadata": {
        "id": "jcBvClfisn6v"
      },
      "source": [
        "##avarage santence lengh"
      ]
    },
    {
      "cell_type": "code",
      "execution_count": null,
      "metadata": {
        "id": "6tsBoG6CsERq"
      },
      "outputs": [],
      "source": [
        "import pandas as pd\n",
        "import re\n",
        "\n",
        "def calculate_avg_sentence_length(text):\n",
        "    sentences = re.split(r'[.!?]', text)\n",
        "    sentences = [sentence.strip() for sentence in sentences if sentence.strip()]\n",
        "    num_sentences = len(sentences)\n",
        "\n",
        "    total_words = sum(len(sentence.split()) for sentence in sentences)\n",
        "\n",
        "    if num_sentences == 0:\n",
        "        return 0\n",
        "    else:\n",
        "        return total_words / num_sentences\n",
        "\n",
        "# Apply average sentence length analysis to DataFrame\n",
        "df['Avg Sentence Length'] = df['Preprocessed Text'].apply(calculate_avg_sentence_length)\n"
      ]
    },
    {
      "cell_type": "markdown",
      "metadata": {
        "id": "oIs2C_-rsrwH"
      },
      "source": [
        "##PERCENTAGE OF COMPLEX WORDS"
      ]
    },
    {
      "cell_type": "code",
      "source": [
        "#importing tokenize library\n",
        "from nltk.tokenize import word_tokenize"
      ],
      "metadata": {
        "id": "cRKmPeMwyNGz"
      },
      "execution_count": 21,
      "outputs": []
    },
    {
      "cell_type": "code",
      "source": [
        "txt_list=[]\n",
        "length=df.shape[0]\n",
        "for i in range(0,length):\n",
        "  txt=' '.join([word for word in df['Preprocessed Text']])\n",
        "  txt_list.append(txt)\n",
        "\n"
      ],
      "metadata": {
        "id": "FhTPudSIyFrH"
      },
      "execution_count": 24,
      "outputs": []
    },
    {
      "cell_type": "code",
      "source": [
        "#tokenization of text\n",
        "tokenize_text=[]\n",
        "for i in txt_list:\n",
        "\n",
        "  tokenize_text+=(word_tokenize(i))"
      ],
      "metadata": {
        "id": "4yFphtOEyIAz"
      },
      "execution_count": 25,
      "outputs": []
    },
    {
      "cell_type": "code",
      "execution_count": 33,
      "metadata": {
        "id": "ou77zVw8ETmB"
      },
      "outputs": [],
      "source": [
        "\n",
        "vowels=['a','e','i','o','u']\n",
        "import re\n",
        "count=0\n",
        "complex_Word_Count=0\n",
        "for i in tokenize_text:\n",
        "  x=re.compile('[es|ed]$')\n",
        "  if x.match(i.lower()):\n",
        "   count+=0\n",
        "  else:\n",
        "    for j in i:\n",
        "      if(j.lower() in vowels ):\n",
        "        count+=1\n",
        "  if(count>2):\n",
        "   complex_Word_Count+=1\n",
        "  count=0\n",
        "\n",
        "df['complex words count'] = complex_Word_Count"
      ]
    },
    {
      "cell_type": "code",
      "execution_count": null,
      "metadata": {
        "id": "qD_nAI7GSjk8"
      },
      "outputs": [],
      "source": [
        "df.info()"
      ]
    },
    {
      "cell_type": "markdown",
      "metadata": {
        "id": "hUymvoTzDUN6"
      },
      "source": [
        "##FOG INDEX"
      ]
    },
    {
      "cell_type": "code",
      "execution_count": 34,
      "metadata": {
        "id": "nmKDDcPvEk5o"
      },
      "outputs": [],
      "source": [
        "# Calculate Fog Index for DataFrame\n",
        "df['Fog Index'] = 0.4 * (df['Avg Sentence Length'] + df['complex words count'])\n"
      ]
    },
    {
      "cell_type": "markdown",
      "metadata": {
        "id": "H2SnZ0BADUQp"
      },
      "source": [
        "##AVG NUMBER OF WORDS PER SENTENCE"
      ]
    },
    {
      "cell_type": "code",
      "execution_count": 35,
      "metadata": {
        "id": "JvxBsmdOFX2a",
        "colab": {
          "base_uri": "https://localhost:8080/"
        },
        "outputId": "d9728bac-3cf5-466c-ae3d-63b1e0fbae13"
      },
      "outputs": [
        {
          "output_type": "stream",
          "name": "stderr",
          "text": [
            "[nltk_data] Downloading package punkt to /root/nltk_data...\n",
            "[nltk_data]   Package punkt is already up-to-date!\n"
          ]
        }
      ],
      "source": [
        "import pandas as pd\n",
        "import nltk\n",
        "nltk.download('punkt')\n",
        "\n",
        "def calculate_avg_words_per_sentence(text):\n",
        "    sentences = nltk.sent_tokenize(text)  # Tokenize into sentences\n",
        "    num_sentences = len(sentences)\n",
        "\n",
        "    words = nltk.word_tokenize(text)  # Tokenize into words\n",
        "    num_words = len(words)\n",
        "\n",
        "    if num_sentences == 0:\n",
        "        return 0\n",
        "    else:\n",
        "        avg_words_per_sentence = num_words / num_sentences\n",
        "        return avg_words_per_sentence\n",
        "\n",
        "# Apply average words per sentence calculation to DataFrame\n",
        "df['Average Words Per Sentence'] = df['Preprocessed Text'].apply(calculate_avg_words_per_sentence)\n"
      ]
    },
    {
      "cell_type": "markdown",
      "metadata": {
        "id": "eNpcDwPoDUTb"
      },
      "source": [
        "##COMPLEX WORD COUNT"
      ]
    },
    {
      "cell_type": "code",
      "execution_count": 36,
      "metadata": {
        "id": "vS8x6-0cF94C",
        "colab": {
          "base_uri": "https://localhost:8080/"
        },
        "outputId": "dfd77908-e196-4c5a-ea05-0c6d76be33e7"
      },
      "outputs": [
        {
          "output_type": "stream",
          "name": "stdout",
          "text": [
            "complex words count= 1672832\n"
          ]
        }
      ],
      "source": [
        "vowels=['a','e','i','o','u']\n",
        "import re\n",
        "count=0\n",
        "complex_Word_Count=0\n",
        "for i in tokenize_text:\n",
        "  x=re.compile('[es|ed]$')\n",
        "  if x.match(i.lower()):\n",
        "   count+=0\n",
        "  else:\n",
        "    for j in i:\n",
        "      if(j.lower() in vowels ):\n",
        "        count+=1\n",
        "  if(count>2):\n",
        "   complex_Word_Count+=1\n",
        "  count=0\n",
        "print('complex words count=',  complex_Word_Count)\n"
      ]
    },
    {
      "cell_type": "markdown",
      "metadata": {
        "id": "C0a9fc8eDnjp"
      },
      "source": [
        "##WORD COUNT"
      ]
    },
    {
      "cell_type": "code",
      "execution_count": 37,
      "metadata": {
        "id": "OJsQfHZsIOzP",
        "colab": {
          "base_uri": "https://localhost:8080/"
        },
        "outputId": "75569b36-9c41-4a13-c0e6-ce4f1bee0a28"
      },
      "outputs": [
        {
          "output_type": "stream",
          "name": "stderr",
          "text": [
            "[nltk_data] Downloading package punkt to /root/nltk_data...\n",
            "[nltk_data]   Package punkt is already up-to-date!\n"
          ]
        }
      ],
      "source": [
        "import pandas as pd\n",
        "import nltk\n",
        "nltk.download('punkt')\n",
        "\n",
        "def calculate_word_count(text):\n",
        "    words = nltk.word_tokenize(text)  # Tokenize into words\n",
        "    return len(words)\n",
        "\n",
        "# Apply word count calculation to DataFrame\n",
        "df['Word Count'] = df['Preprocessed Text'].apply(calculate_word_count)"
      ]
    },
    {
      "cell_type": "markdown",
      "metadata": {
        "id": "sSAf8HZCDs_5"
      },
      "source": [
        "##SYLLABLE PER WORD"
      ]
    },
    {
      "cell_type": "code",
      "execution_count": 39,
      "metadata": {
        "id": "Goqh-CqcI-Mi"
      },
      "outputs": [],
      "source": [
        "vowels=['a','e','i','o','u']\n",
        "import re\n",
        "count=0\n",
        "for i in tokenize_text:\n",
        "  x=re.compile('[es|ed]$')\n",
        "  if x.match(i.lower()):\n",
        "   count+=0\n",
        "  else:\n",
        "    for j in i:\n",
        "      if(j.lower() in vowels ):\n",
        "        count+=1\n",
        "syllable_count=count\n",
        "df['syllable_per_word']=syllable_count"
      ]
    },
    {
      "cell_type": "markdown",
      "metadata": {
        "id": "QIp8xGavDye5"
      },
      "source": [
        "##PERSONAL PRONOUNS"
      ]
    },
    {
      "cell_type": "code",
      "execution_count": 40,
      "metadata": {
        "id": "yMv4Y8ZbIfEJ",
        "colab": {
          "base_uri": "https://localhost:8080/"
        },
        "outputId": "6bdc4a1c-e398-4a20-8925-ff66f00c2250"
      },
      "outputs": [
        {
          "output_type": "stream",
          "name": "stderr",
          "text": [
            "[nltk_data] Downloading package punkt to /root/nltk_data...\n",
            "[nltk_data]   Package punkt is already up-to-date!\n",
            "[nltk_data] Downloading package averaged_perceptron_tagger to\n",
            "[nltk_data]     /root/nltk_data...\n",
            "[nltk_data]   Unzipping taggers/averaged_perceptron_tagger.zip.\n"
          ]
        }
      ],
      "source": [
        "import pandas as pd\n",
        "import nltk\n",
        "nltk.download('punkt')\n",
        "nltk.download('averaged_perceptron_tagger')\n",
        "\n",
        "def count_personal_pronouns(text):\n",
        "    words = nltk.word_tokenize(text)  # Tokenize into words\n",
        "    tagged_words = nltk.pos_tag(words)  # Part-of-speech tagging\n",
        "\n",
        "    personal_pronoun_count = sum(1 for word, pos in tagged_words if pos == 'PRP')\n",
        "    return personal_pronoun_count\n",
        "\n",
        "# Apply personal pronoun count calculation to DataFrame\n",
        "df['Personal Pronoun Count'] = df['Preprocessed Text'].apply(count_personal_pronouns)\n",
        "\n"
      ]
    },
    {
      "cell_type": "code",
      "execution_count": 41,
      "metadata": {
        "id": "43Y8BJXJNFEP",
        "colab": {
          "base_uri": "https://localhost:8080/"
        },
        "outputId": "0dc722eb-4639-4c36-f8fe-45d5058e4026"
      },
      "outputs": [
        {
          "output_type": "execute_result",
          "data": {
            "text/plain": [
              "array([0, 1])"
            ]
          },
          "metadata": {},
          "execution_count": 41
        }
      ],
      "source": [
        "df['Personal Pronoun Count'].unique()"
      ]
    },
    {
      "cell_type": "markdown",
      "metadata": {
        "id": "jxJyvgNDD3P4"
      },
      "source": [
        "##AVG WORD LENGTH"
      ]
    },
    {
      "cell_type": "code",
      "execution_count": 42,
      "metadata": {
        "id": "zIjC9MWVI2mA",
        "colab": {
          "base_uri": "https://localhost:8080/"
        },
        "outputId": "063062c0-3bd9-4304-eb00-d5f8cd501935"
      },
      "outputs": [
        {
          "output_type": "stream",
          "name": "stderr",
          "text": [
            "[nltk_data] Downloading package punkt to /root/nltk_data...\n",
            "[nltk_data]   Package punkt is already up-to-date!\n"
          ]
        }
      ],
      "source": [
        "import pandas as pd\n",
        "import nltk\n",
        "nltk.download('punkt')\n",
        "\n",
        "def calculate_avg_word_length(text):\n",
        "    words = nltk.word_tokenize(text)  # Tokenize into words\n",
        "    total_characters = sum(len(word) for word in words)\n",
        "    total_words = len(words)\n",
        "\n",
        "    if total_words == 0:\n",
        "        return 0\n",
        "    else:\n",
        "        avg_word_length = total_characters / total_words\n",
        "        return avg_word_length\n",
        "\n",
        "# Apply average word length calculation to DataFrame\n",
        "df['Average Word Length'] = df['Preprocessed Text'].apply(calculate_avg_word_length)\n",
        "\n"
      ]
    },
    {
      "cell_type": "code",
      "execution_count": 44,
      "metadata": {
        "id": "scCk5DglM13v",
        "colab": {
          "base_uri": "https://localhost:8080/",
          "height": 1000
        },
        "outputId": "4f9ae90c-c153-41d1-f1ac-3b5f4524647b"
      },
      "outputs": [
        {
          "output_type": "execute_result",
          "data": {
            "text/plain": [
              "      URL_ID                                                URL  \\\n",
              "0      123.0  https://insights.blackcoffer.com/rise-of-telem...   \n",
              "1      321.0  https://insights.blackcoffer.com/rise-of-e-hea...   \n",
              "2     2345.0  https://insights.blackcoffer.com/rise-of-e-hea...   \n",
              "3     4321.0  https://insights.blackcoffer.com/rise-of-telem...   \n",
              "4      432.0  https://insights.blackcoffer.com/rise-of-telem...   \n",
              "..       ...                                                ...   \n",
              "109  50921.0  https://insights.blackcoffer.com/coronavirus-i...   \n",
              "110  51382.8  https://insights.blackcoffer.com/coronavirus-i...   \n",
              "111  51844.6  https://insights.blackcoffer.com/what-are-the-...   \n",
              "112  52306.4  https://insights.blackcoffer.com/marketing-dri...   \n",
              "113  52768.2  https://insights.blackcoffer.com/continued-dem...   \n",
              "\n",
              "                                                 Title  \\\n",
              "0    Rise of telemedicine and its Impact on Livelih...   \n",
              "1    Rise of e-health and its impact on humans by t...   \n",
              "2    Rise of e-health and its impact on humans by t...   \n",
              "3    Rise of telemedicine and its Impact on Livelih...   \n",
              "4    Rise of telemedicine and its Impact on Livelih...   \n",
              "..                                                 ...   \n",
              "109  Coronavirus: Impact on the Hospitality Industr...   \n",
              "110  Coronavirus impact on energy markets | Blackco...   \n",
              "111  What are the key policies that will mitigate t...   \n",
              "112  Marketing Drives Results With A Focus On Probl...   \n",
              "113  Continued Demand for Sustainability | Blackcof...   \n",
              "\n",
              "                                               Content  \\\n",
              "0    \\nTelemedicine, the use of technology to diagn...   \n",
              "1    \\nThe rise of e-health, or the use of electron...   \n",
              "2                                     No content found   \n",
              "3    \\n“More gains on quality, affordability and ac...   \n",
              "4    \\n“More gains on quality, affordability and ac...   \n",
              "..                                                 ...   \n",
              "109  \\nBefore jumping on the topic I would like to ...   \n",
              "110  \\nAs the coronavirus spreads around the world ...   \n",
              "111  \\nFrom Alibaba to Ping An and Google to Ford, ...   \n",
              "112  \\nWhen\\nthe British ruled India, many Indians\\...   \n",
              "113  \\nThe business of business is no longer to do ...   \n",
              "\n",
              "                                     Preprocessed Text  Positive Score  \\\n",
              "0    telemedicin technolog diagnos treat patient re...        0.045950   \n",
              "1    rise electron mean facilit health care major d...        0.000000   \n",
              "2                                        content found        0.000000   \n",
              "3    gain qualiti afford access mean world evolv ad...        0.036410   \n",
              "4    gain qualiti afford access mean world evolv ad...        0.036410   \n",
              "..                                                 ...             ...   \n",
              "109  jump topic give overview coronaviru spread sym...        0.000000   \n",
              "110  coronaviru spread world countri implement cont...        0.000000   \n",
              "111  alibaba ping googl ford compani globe tell sta...        0.027257   \n",
              "112  british rule india indian accept work polici r...        0.026615   \n",
              "113  busi busi longer busi increas bottom line maxi...        0.000000   \n",
              "\n",
              "     Negative Score  Polarity_Score  Subjectivity_Score  Avg Sentence Length  \\\n",
              "0          0.000000        0.999978        8.124996e-07                841.0   \n",
              "1         -0.061364       -1.000016       -1.085045e-06                269.0   \n",
              "2          0.000000        0.000000        0.000000e+00                  2.0   \n",
              "3          0.000000        0.999973        6.438007e-07                614.0   \n",
              "4          0.000000        0.999973        6.438007e-07                614.0   \n",
              "..              ...             ...                 ...                  ...   \n",
              "109       -0.127667       -1.000008       -2.257429e-06                348.0   \n",
              "110       -0.020675       -1.000048       -3.655817e-07                943.0   \n",
              "111        0.000000        0.999963        4.819572e-07                856.0   \n",
              "112        0.000000        0.999962        4.706048e-07                597.0   \n",
              "113       -0.001010       -1.000991       -1.785642e-08                531.0   \n",
              "\n",
              "     complex words count  Fog Index  Average Words Per Sentence  Word Count  \\\n",
              "0                1672832   669469.2                       841.0         841   \n",
              "1                1672832   669240.4                       269.0         269   \n",
              "2                1672832   669133.6                         2.0           2   \n",
              "3                1672832   669378.4                       614.0         614   \n",
              "4                1672832   669378.4                       614.0         614   \n",
              "..                   ...        ...                         ...         ...   \n",
              "109              1672832   669272.0                       348.0         348   \n",
              "110              1672832   669510.0                       943.0         943   \n",
              "111              1672832   669475.2                       856.0         856   \n",
              "112              1672832   669371.6                       597.0         597   \n",
              "113              1672832   669345.2                       531.0         531   \n",
              "\n",
              "     syllable_per_word  Personal Pronoun Count  Average Word Length  \n",
              "0             13651680                       0             6.403092  \n",
              "1             13651680                       0             6.546468  \n",
              "2             13651680                       0             6.000000  \n",
              "3             13651680                       0             6.135179  \n",
              "4             13651680                       0             6.135179  \n",
              "..                 ...                     ...                  ...  \n",
              "109           13651680                       0             5.666667  \n",
              "110           13651680                       0             5.667020  \n",
              "111           13651680                       0             5.627336  \n",
              "112           13651680                       0             5.668342  \n",
              "113           13651680                       0             5.971751  \n",
              "\n",
              "[112 rows x 17 columns]"
            ],
            "text/html": [
              "\n",
              "  <div id=\"df-217281e2-8522-4f7f-8fea-565fc335b23b\" class=\"colab-df-container\">\n",
              "    <div>\n",
              "<style scoped>\n",
              "    .dataframe tbody tr th:only-of-type {\n",
              "        vertical-align: middle;\n",
              "    }\n",
              "\n",
              "    .dataframe tbody tr th {\n",
              "        vertical-align: top;\n",
              "    }\n",
              "\n",
              "    .dataframe thead th {\n",
              "        text-align: right;\n",
              "    }\n",
              "</style>\n",
              "<table border=\"1\" class=\"dataframe\">\n",
              "  <thead>\n",
              "    <tr style=\"text-align: right;\">\n",
              "      <th></th>\n",
              "      <th>URL_ID</th>\n",
              "      <th>URL</th>\n",
              "      <th>Title</th>\n",
              "      <th>Content</th>\n",
              "      <th>Preprocessed Text</th>\n",
              "      <th>Positive Score</th>\n",
              "      <th>Negative Score</th>\n",
              "      <th>Polarity_Score</th>\n",
              "      <th>Subjectivity_Score</th>\n",
              "      <th>Avg Sentence Length</th>\n",
              "      <th>complex words count</th>\n",
              "      <th>Fog Index</th>\n",
              "      <th>Average Words Per Sentence</th>\n",
              "      <th>Word Count</th>\n",
              "      <th>syllable_per_word</th>\n",
              "      <th>Personal Pronoun Count</th>\n",
              "      <th>Average Word Length</th>\n",
              "    </tr>\n",
              "  </thead>\n",
              "  <tbody>\n",
              "    <tr>\n",
              "      <th>0</th>\n",
              "      <td>123.0</td>\n",
              "      <td>https://insights.blackcoffer.com/rise-of-telem...</td>\n",
              "      <td>Rise of telemedicine and its Impact on Livelih...</td>\n",
              "      <td>\\nTelemedicine, the use of technology to diagn...</td>\n",
              "      <td>telemedicin technolog diagnos treat patient re...</td>\n",
              "      <td>0.045950</td>\n",
              "      <td>0.000000</td>\n",
              "      <td>0.999978</td>\n",
              "      <td>8.124996e-07</td>\n",
              "      <td>841.0</td>\n",
              "      <td>1672832</td>\n",
              "      <td>669469.2</td>\n",
              "      <td>841.0</td>\n",
              "      <td>841</td>\n",
              "      <td>13651680</td>\n",
              "      <td>0</td>\n",
              "      <td>6.403092</td>\n",
              "    </tr>\n",
              "    <tr>\n",
              "      <th>1</th>\n",
              "      <td>321.0</td>\n",
              "      <td>https://insights.blackcoffer.com/rise-of-e-hea...</td>\n",
              "      <td>Rise of e-health and its impact on humans by t...</td>\n",
              "      <td>\\nThe rise of e-health, or the use of electron...</td>\n",
              "      <td>rise electron mean facilit health care major d...</td>\n",
              "      <td>0.000000</td>\n",
              "      <td>-0.061364</td>\n",
              "      <td>-1.000016</td>\n",
              "      <td>-1.085045e-06</td>\n",
              "      <td>269.0</td>\n",
              "      <td>1672832</td>\n",
              "      <td>669240.4</td>\n",
              "      <td>269.0</td>\n",
              "      <td>269</td>\n",
              "      <td>13651680</td>\n",
              "      <td>0</td>\n",
              "      <td>6.546468</td>\n",
              "    </tr>\n",
              "    <tr>\n",
              "      <th>2</th>\n",
              "      <td>2345.0</td>\n",
              "      <td>https://insights.blackcoffer.com/rise-of-e-hea...</td>\n",
              "      <td>Rise of e-health and its impact on humans by t...</td>\n",
              "      <td>No content found</td>\n",
              "      <td>content found</td>\n",
              "      <td>0.000000</td>\n",
              "      <td>0.000000</td>\n",
              "      <td>0.000000</td>\n",
              "      <td>0.000000e+00</td>\n",
              "      <td>2.0</td>\n",
              "      <td>1672832</td>\n",
              "      <td>669133.6</td>\n",
              "      <td>2.0</td>\n",
              "      <td>2</td>\n",
              "      <td>13651680</td>\n",
              "      <td>0</td>\n",
              "      <td>6.000000</td>\n",
              "    </tr>\n",
              "    <tr>\n",
              "      <th>3</th>\n",
              "      <td>4321.0</td>\n",
              "      <td>https://insights.blackcoffer.com/rise-of-telem...</td>\n",
              "      <td>Rise of telemedicine and its Impact on Livelih...</td>\n",
              "      <td>\\n“More gains on quality, affordability and ac...</td>\n",
              "      <td>gain qualiti afford access mean world evolv ad...</td>\n",
              "      <td>0.036410</td>\n",
              "      <td>0.000000</td>\n",
              "      <td>0.999973</td>\n",
              "      <td>6.438007e-07</td>\n",
              "      <td>614.0</td>\n",
              "      <td>1672832</td>\n",
              "      <td>669378.4</td>\n",
              "      <td>614.0</td>\n",
              "      <td>614</td>\n",
              "      <td>13651680</td>\n",
              "      <td>0</td>\n",
              "      <td>6.135179</td>\n",
              "    </tr>\n",
              "    <tr>\n",
              "      <th>4</th>\n",
              "      <td>432.0</td>\n",
              "      <td>https://insights.blackcoffer.com/rise-of-telem...</td>\n",
              "      <td>Rise of telemedicine and its Impact on Livelih...</td>\n",
              "      <td>\\n“More gains on quality, affordability and ac...</td>\n",
              "      <td>gain qualiti afford access mean world evolv ad...</td>\n",
              "      <td>0.036410</td>\n",
              "      <td>0.000000</td>\n",
              "      <td>0.999973</td>\n",
              "      <td>6.438007e-07</td>\n",
              "      <td>614.0</td>\n",
              "      <td>1672832</td>\n",
              "      <td>669378.4</td>\n",
              "      <td>614.0</td>\n",
              "      <td>614</td>\n",
              "      <td>13651680</td>\n",
              "      <td>0</td>\n",
              "      <td>6.135179</td>\n",
              "    </tr>\n",
              "    <tr>\n",
              "      <th>...</th>\n",
              "      <td>...</td>\n",
              "      <td>...</td>\n",
              "      <td>...</td>\n",
              "      <td>...</td>\n",
              "      <td>...</td>\n",
              "      <td>...</td>\n",
              "      <td>...</td>\n",
              "      <td>...</td>\n",
              "      <td>...</td>\n",
              "      <td>...</td>\n",
              "      <td>...</td>\n",
              "      <td>...</td>\n",
              "      <td>...</td>\n",
              "      <td>...</td>\n",
              "      <td>...</td>\n",
              "      <td>...</td>\n",
              "      <td>...</td>\n",
              "    </tr>\n",
              "    <tr>\n",
              "      <th>109</th>\n",
              "      <td>50921.0</td>\n",
              "      <td>https://insights.blackcoffer.com/coronavirus-i...</td>\n",
              "      <td>Coronavirus: Impact on the Hospitality Industr...</td>\n",
              "      <td>\\nBefore jumping on the topic I would like to ...</td>\n",
              "      <td>jump topic give overview coronaviru spread sym...</td>\n",
              "      <td>0.000000</td>\n",
              "      <td>-0.127667</td>\n",
              "      <td>-1.000008</td>\n",
              "      <td>-2.257429e-06</td>\n",
              "      <td>348.0</td>\n",
              "      <td>1672832</td>\n",
              "      <td>669272.0</td>\n",
              "      <td>348.0</td>\n",
              "      <td>348</td>\n",
              "      <td>13651680</td>\n",
              "      <td>0</td>\n",
              "      <td>5.666667</td>\n",
              "    </tr>\n",
              "    <tr>\n",
              "      <th>110</th>\n",
              "      <td>51382.8</td>\n",
              "      <td>https://insights.blackcoffer.com/coronavirus-i...</td>\n",
              "      <td>Coronavirus impact on energy markets | Blackco...</td>\n",
              "      <td>\\nAs the coronavirus spreads around the world ...</td>\n",
              "      <td>coronaviru spread world countri implement cont...</td>\n",
              "      <td>0.000000</td>\n",
              "      <td>-0.020675</td>\n",
              "      <td>-1.000048</td>\n",
              "      <td>-3.655817e-07</td>\n",
              "      <td>943.0</td>\n",
              "      <td>1672832</td>\n",
              "      <td>669510.0</td>\n",
              "      <td>943.0</td>\n",
              "      <td>943</td>\n",
              "      <td>13651680</td>\n",
              "      <td>0</td>\n",
              "      <td>5.667020</td>\n",
              "    </tr>\n",
              "    <tr>\n",
              "      <th>111</th>\n",
              "      <td>51844.6</td>\n",
              "      <td>https://insights.blackcoffer.com/what-are-the-...</td>\n",
              "      <td>What are the key policies that will mitigate t...</td>\n",
              "      <td>\\nFrom Alibaba to Ping An and Google to Ford, ...</td>\n",
              "      <td>alibaba ping googl ford compani globe tell sta...</td>\n",
              "      <td>0.027257</td>\n",
              "      <td>0.000000</td>\n",
              "      <td>0.999963</td>\n",
              "      <td>4.819572e-07</td>\n",
              "      <td>856.0</td>\n",
              "      <td>1672832</td>\n",
              "      <td>669475.2</td>\n",
              "      <td>856.0</td>\n",
              "      <td>856</td>\n",
              "      <td>13651680</td>\n",
              "      <td>0</td>\n",
              "      <td>5.627336</td>\n",
              "    </tr>\n",
              "    <tr>\n",
              "      <th>112</th>\n",
              "      <td>52306.4</td>\n",
              "      <td>https://insights.blackcoffer.com/marketing-dri...</td>\n",
              "      <td>Marketing Drives Results With A Focus On Probl...</td>\n",
              "      <td>\\nWhen\\nthe British ruled India, many Indians\\...</td>\n",
              "      <td>british rule india indian accept work polici r...</td>\n",
              "      <td>0.026615</td>\n",
              "      <td>0.000000</td>\n",
              "      <td>0.999962</td>\n",
              "      <td>4.706048e-07</td>\n",
              "      <td>597.0</td>\n",
              "      <td>1672832</td>\n",
              "      <td>669371.6</td>\n",
              "      <td>597.0</td>\n",
              "      <td>597</td>\n",
              "      <td>13651680</td>\n",
              "      <td>0</td>\n",
              "      <td>5.668342</td>\n",
              "    </tr>\n",
              "    <tr>\n",
              "      <th>113</th>\n",
              "      <td>52768.2</td>\n",
              "      <td>https://insights.blackcoffer.com/continued-dem...</td>\n",
              "      <td>Continued Demand for Sustainability | Blackcof...</td>\n",
              "      <td>\\nThe business of business is no longer to do ...</td>\n",
              "      <td>busi busi longer busi increas bottom line maxi...</td>\n",
              "      <td>0.000000</td>\n",
              "      <td>-0.001010</td>\n",
              "      <td>-1.000991</td>\n",
              "      <td>-1.785642e-08</td>\n",
              "      <td>531.0</td>\n",
              "      <td>1672832</td>\n",
              "      <td>669345.2</td>\n",
              "      <td>531.0</td>\n",
              "      <td>531</td>\n",
              "      <td>13651680</td>\n",
              "      <td>0</td>\n",
              "      <td>5.971751</td>\n",
              "    </tr>\n",
              "  </tbody>\n",
              "</table>\n",
              "<p>112 rows × 17 columns</p>\n",
              "</div>\n",
              "    <div class=\"colab-df-buttons\">\n",
              "\n",
              "  <div class=\"colab-df-container\">\n",
              "    <button class=\"colab-df-convert\" onclick=\"convertToInteractive('df-217281e2-8522-4f7f-8fea-565fc335b23b')\"\n",
              "            title=\"Convert this dataframe to an interactive table.\"\n",
              "            style=\"display:none;\">\n",
              "\n",
              "  <svg xmlns=\"http://www.w3.org/2000/svg\" height=\"24px\" viewBox=\"0 -960 960 960\">\n",
              "    <path d=\"M120-120v-720h720v720H120Zm60-500h600v-160H180v160Zm220 220h160v-160H400v160Zm0 220h160v-160H400v160ZM180-400h160v-160H180v160Zm440 0h160v-160H620v160ZM180-180h160v-160H180v160Zm440 0h160v-160H620v160Z\"/>\n",
              "  </svg>\n",
              "    </button>\n",
              "\n",
              "  <style>\n",
              "    .colab-df-container {\n",
              "      display:flex;\n",
              "      gap: 12px;\n",
              "    }\n",
              "\n",
              "    .colab-df-convert {\n",
              "      background-color: #E8F0FE;\n",
              "      border: none;\n",
              "      border-radius: 50%;\n",
              "      cursor: pointer;\n",
              "      display: none;\n",
              "      fill: #1967D2;\n",
              "      height: 32px;\n",
              "      padding: 0 0 0 0;\n",
              "      width: 32px;\n",
              "    }\n",
              "\n",
              "    .colab-df-convert:hover {\n",
              "      background-color: #E2EBFA;\n",
              "      box-shadow: 0px 1px 2px rgba(60, 64, 67, 0.3), 0px 1px 3px 1px rgba(60, 64, 67, 0.15);\n",
              "      fill: #174EA6;\n",
              "    }\n",
              "\n",
              "    .colab-df-buttons div {\n",
              "      margin-bottom: 4px;\n",
              "    }\n",
              "\n",
              "    [theme=dark] .colab-df-convert {\n",
              "      background-color: #3B4455;\n",
              "      fill: #D2E3FC;\n",
              "    }\n",
              "\n",
              "    [theme=dark] .colab-df-convert:hover {\n",
              "      background-color: #434B5C;\n",
              "      box-shadow: 0px 1px 3px 1px rgba(0, 0, 0, 0.15);\n",
              "      filter: drop-shadow(0px 1px 2px rgba(0, 0, 0, 0.3));\n",
              "      fill: #FFFFFF;\n",
              "    }\n",
              "  </style>\n",
              "\n",
              "    <script>\n",
              "      const buttonEl =\n",
              "        document.querySelector('#df-217281e2-8522-4f7f-8fea-565fc335b23b button.colab-df-convert');\n",
              "      buttonEl.style.display =\n",
              "        google.colab.kernel.accessAllowed ? 'block' : 'none';\n",
              "\n",
              "      async function convertToInteractive(key) {\n",
              "        const element = document.querySelector('#df-217281e2-8522-4f7f-8fea-565fc335b23b');\n",
              "        const dataTable =\n",
              "          await google.colab.kernel.invokeFunction('convertToInteractive',\n",
              "                                                    [key], {});\n",
              "        if (!dataTable) return;\n",
              "\n",
              "        const docLinkHtml = 'Like what you see? Visit the ' +\n",
              "          '<a target=\"_blank\" href=https://colab.research.google.com/notebooks/data_table.ipynb>data table notebook</a>'\n",
              "          + ' to learn more about interactive tables.';\n",
              "        element.innerHTML = '';\n",
              "        dataTable['output_type'] = 'display_data';\n",
              "        await google.colab.output.renderOutput(dataTable, element);\n",
              "        const docLink = document.createElement('div');\n",
              "        docLink.innerHTML = docLinkHtml;\n",
              "        element.appendChild(docLink);\n",
              "      }\n",
              "    </script>\n",
              "  </div>\n",
              "\n",
              "\n",
              "<div id=\"df-41c35d02-5704-45d3-8771-78df2c5bdd25\">\n",
              "  <button class=\"colab-df-quickchart\" onclick=\"quickchart('df-41c35d02-5704-45d3-8771-78df2c5bdd25')\"\n",
              "            title=\"Suggest charts.\"\n",
              "            style=\"display:none;\">\n",
              "\n",
              "<svg xmlns=\"http://www.w3.org/2000/svg\" height=\"24px\"viewBox=\"0 0 24 24\"\n",
              "     width=\"24px\">\n",
              "    <g>\n",
              "        <path d=\"M19 3H5c-1.1 0-2 .9-2 2v14c0 1.1.9 2 2 2h14c1.1 0 2-.9 2-2V5c0-1.1-.9-2-2-2zM9 17H7v-7h2v7zm4 0h-2V7h2v10zm4 0h-2v-4h2v4z\"/>\n",
              "    </g>\n",
              "</svg>\n",
              "  </button>\n",
              "\n",
              "<style>\n",
              "  .colab-df-quickchart {\n",
              "    background-color: #E8F0FE;\n",
              "    border: none;\n",
              "    border-radius: 50%;\n",
              "    cursor: pointer;\n",
              "    display: none;\n",
              "    fill: #1967D2;\n",
              "    height: 32px;\n",
              "    padding: 0 0 0 0;\n",
              "    width: 32px;\n",
              "  }\n",
              "\n",
              "  .colab-df-quickchart:hover {\n",
              "    background-color: #E2EBFA;\n",
              "    box-shadow: 0px 1px 2px rgba(60, 64, 67, 0.3), 0px 1px 3px 1px rgba(60, 64, 67, 0.15);\n",
              "    fill: #174EA6;\n",
              "  }\n",
              "\n",
              "  [theme=dark] .colab-df-quickchart {\n",
              "    background-color: #3B4455;\n",
              "    fill: #D2E3FC;\n",
              "  }\n",
              "\n",
              "  [theme=dark] .colab-df-quickchart:hover {\n",
              "    background-color: #434B5C;\n",
              "    box-shadow: 0px 1px 3px 1px rgba(0, 0, 0, 0.15);\n",
              "    filter: drop-shadow(0px 1px 2px rgba(0, 0, 0, 0.3));\n",
              "    fill: #FFFFFF;\n",
              "  }\n",
              "</style>\n",
              "\n",
              "  <script>\n",
              "    async function quickchart(key) {\n",
              "      const charts = await google.colab.kernel.invokeFunction(\n",
              "          'suggestCharts', [key], {});\n",
              "    }\n",
              "    (() => {\n",
              "      let quickchartButtonEl =\n",
              "        document.querySelector('#df-41c35d02-5704-45d3-8771-78df2c5bdd25 button');\n",
              "      quickchartButtonEl.style.display =\n",
              "        google.colab.kernel.accessAllowed ? 'block' : 'none';\n",
              "    })();\n",
              "  </script>\n",
              "</div>\n",
              "    </div>\n",
              "  </div>\n"
            ]
          },
          "metadata": {},
          "execution_count": 44
        }
      ],
      "source": [
        "df"
      ]
    },
    {
      "cell_type": "code",
      "source": [
        "df.to_csv('Output Data Structure.csv', index=False)"
      ],
      "metadata": {
        "id": "DKVWIOkkp-pU"
      },
      "execution_count": 43,
      "outputs": []
    }
  ],
  "metadata": {
    "colab": {
      "provenance": []
    },
    "kernelspec": {
      "display_name": "Python 3",
      "name": "python3"
    },
    "language_info": {
      "name": "python"
    }
  },
  "nbformat": 4,
  "nbformat_minor": 0
}